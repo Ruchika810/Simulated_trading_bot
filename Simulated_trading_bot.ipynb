{
  "nbformat": 4,
  "nbformat_minor": 0,
  "metadata": {
    "colab": {
      "provenance": [],
      "authorship_tag": "ABX9TyNOkjZgsnAsRphrybrHDsO6",
      "include_colab_link": true
    },
    "kernelspec": {
      "name": "python3",
      "display_name": "Python 3"
    },
    "language_info": {
      "name": "python"
    }
  },
  "cells": [
    {
      "cell_type": "markdown",
      "metadata": {
        "id": "view-in-github",
        "colab_type": "text"
      },
      "source": [
        "<a href=\"https://colab.research.google.com/github/Ruchika810/Simulated_trading_bot/blob/main/Simulated_trading_bot.ipynb\" target=\"_parent\"><img src=\"https://colab.research.google.com/assets/colab-badge.svg\" alt=\"Open In Colab\"/></a>"
      ]
    },
    {
      "cell_type": "code",
      "execution_count": null,
      "metadata": {
        "id": "a6OyQyIpBbwm"
      },
      "outputs": [],
      "source": [
        "import time\n",
        "import logging\n",
        "from datetime import datetime\n"
      ]
    },
    {
      "cell_type": "code",
      "source": [
        "# ------------------ CONFIGURATION ------------------\n",
        "\n",
        "LOG_FILE = \"bot_log.txt\"  # Log file to store all actions\n",
        "\n",
        "logging.basicConfig(\n",
        "    filename=LOG_FILE,\n",
        "    level=logging.INFO,\n",
        "    format=\"%(asctime)s - %(levelname)s - %(message)s\"\n",
        ")"
      ],
      "metadata": {
        "id": "mDe2UC1DZ3D8"
      },
      "execution_count": null,
      "outputs": []
    },
    {
      "cell_type": "code",
      "source": [
        " #------------------ SIMULATED BINANCE CLIENT ------------------\n",
        "\n",
        "class FakeBinanceClient:\n",
        "    def __init__(self):\n",
        "        logging.info(\"Simulated Binance client initialized.\")\n",
        "        print(\"✅ Connected to Simulated Binance Client\")\n",
        "\n",
        "    def get_account_balance(self):\n",
        "        logging.info(\"Fetching balance (simulated).\")\n",
        "        return {\"balance\": \"1000.00 USDT\"}\n",
        "\n",
        "    def place_market_order(self, symbol, side, quantity, price):\n",
        "        logging.info(f\"Placing Market Order: {side} {quantity} {symbol} @ {price}\")\n",
        "        return {\n",
        "            \"symbol\": symbol,\n",
        "            \"type\": \"MARKET\",\n",
        "            \"side\": side,\n",
        "            \"quantity\": quantity,\n",
        "            \"price\": price,\n",
        "            \"status\": \"FILLED (simulated)\",\n",
        "            \"timestamp\": datetime.utcnow().isoformat()\n",
        "        }\n",
        "\n",
        "    def place_stop_limit_order(self, symbol, side, quantity, stop_price, limit_price):\n",
        "        logging.info(f\"Placing Stop-Limit Order: {side} {quantity} {symbol}, stop @ {stop_price}, limit @ {limit_price}\")\n",
        "        return {\n",
        "            \"symbol\": symbol,\n",
        "            \"type\": \"STOP_LIMIT\",\n",
        "            \"side\": side,\n",
        "            \"quantity\": quantity,\n",
        "            \"stop_price\": stop_price,\n",
        "            \"limit_price\": limit_price,\n",
        "            \"status\": \"PLACED (simulated)\",\n",
        "            \"timestamp\": datetime.utcnow().isoformat()\n",
        "        }\n"
      ],
      "metadata": {
        "id": "ftdGgpVIZ3Uo"
      },
      "execution_count": null,
      "outputs": []
    },
    {
      "cell_type": "code",
      "source": [
        "# ------------------ BOT ACTIONS ------------------\n",
        "\n",
        "def connect_to_api():\n",
        "    return FakeBinanceClient()\n",
        "\n",
        "def check_balance(client):\n",
        "    balance = client.get_account_balance()\n",
        "    print(\"💰 Account Balance:\", balance[\"balance\"])\n",
        "    logging.info(f\"Balance checked: {balance}\")\n",
        "\n",
        "def place_market_order(client):\n",
        "    print(\"\\n🟢 Market Order\")\n",
        "    symbol = input(\"Enter symbol (e.g., BTCUSDT): \")\n",
        "    side = input(\"Side (BUY/SELL): \").upper()\n",
        "    qty = float(input(\"Quantity: \"))\n",
        "    price = float(input(\"Price (used for simulation only): \"))\n",
        "    response = client.place_market_order(symbol, side, qty, price)\n",
        "    print(\"✅ Market Order Placed:\", response)\n",
        "\n",
        "def place_stop_limit_order(client):\n",
        "    print(\"\\n🔶 Stop-Limit Order\")\n",
        "    symbol = input(\"Enter symbol (e.g., BTCUSDT): \")\n",
        "    side = input(\"Side (BUY/SELL): \").upper()\n",
        "    qty = float(input(\"Quantity: \"))\n",
        "    stop_price = float(input(\"Stop Price: \"))\n",
        "    limit_price = float(input(\"Limit Price: \"))\n",
        "    response = client.place_stop_limit_order(symbol, side, qty, stop_price, limit_price)\n",
        "    print(\"✅ Stop-Limit Order Placed:\", response)\n"
      ],
      "metadata": {
        "id": "gm2K_x77aDso"
      },
      "execution_count": null,
      "outputs": []
    },
    {
      "cell_type": "code",
      "source": [
        "# ------------------ CLI MENU INTERFACE ------------------\n",
        "\n",
        "def run_cli_bot():\n",
        "    client = connect_to_api()\n",
        "\n",
        "    while True:\n",
        "        print(\"\\n====== Simulated Trading Bot Menu ======\")\n",
        "        print(\"1. Check Balance\")\n",
        "        print(\"2. Place Market Order\")\n",
        "        print(\"3. Place Stop-Limit Order\")\n",
        "        print(\"4. Exit\")\n",
        "        print(\"========================================\")\n",
        "\n",
        "        choice = input(\"Choose an option (1–4): \")\n",
        "\n",
        "        if choice == \"1\":\n",
        "            check_balance(client)\n",
        "        elif choice == \"2\":\n",
        "            place_market_order(client)\n",
        "        elif choice == \"3\":\n",
        "            place_stop_limit_order(client)\n",
        "        elif choice == \"4\":\n",
        "            print(\"👋 Exiting bot. Goodbye!\")\n",
        "            break\n",
        "        else:\n",
        "            print(\"❌ Invalid option. Please try again.\")\n"
      ],
      "metadata": {
        "id": "8MqOvKkKaH7I"
      },
      "execution_count": null,
      "outputs": []
    },
    {
      "cell_type": "code",
      "source": [
        "# ------------------ MAIN ------------------\n",
        "\n",
        "if __name__ == \"__main__\":\n",
        "    run_cli_bot()"
      ],
      "metadata": {
        "colab": {
          "base_uri": "https://localhost:8080/"
        },
        "id": "XwuSdwRMaT5g",
        "outputId": "cf2b7fde-bd66-483b-d3b2-457f6e7054ac"
      },
      "execution_count": null,
      "outputs": [
        {
          "metadata": {
            "tags": null
          },
          "name": "stdout",
          "output_type": "stream",
          "text": [
            "✅ Connected to Simulated Binance Client\n",
            "\n",
            "====== Simulated Trading Bot Menu ======\n",
            "1. Check Balance\n",
            "2. Place Market Order\n",
            "3. Place Stop-Limit Order\n",
            "4. Exit\n",
            "========================================\n",
            "\n",
            "🟢 Market Order\n",
            "✅ Market Order Placed: {'symbol': 'BITCOIN', 'type': 'MARKET', 'side': 'BUY', 'quantity': 200.0, 'price': 100000.0, 'status': 'FILLED (simulated)', 'timestamp': '2025-07-28T05:09:03.479839'}\n",
            "\n",
            "====== Simulated Trading Bot Menu ======\n",
            "1. Check Balance\n",
            "2. Place Market Order\n",
            "3. Place Stop-Limit Order\n",
            "4. Exit\n",
            "========================================\n",
            "❌ Invalid option. Please try again.\n",
            "\n",
            "====== Simulated Trading Bot Menu ======\n",
            "1. Check Balance\n",
            "2. Place Market Order\n",
            "3. Place Stop-Limit Order\n",
            "4. Exit\n",
            "========================================\n"
          ]
        }
      ]
    }
  ]
}